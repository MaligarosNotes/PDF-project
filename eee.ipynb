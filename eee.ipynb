{
 "cells": [
  {
   "cell_type": "code",
   "execution_count": 3,
   "metadata": {},
   "outputs": [],
   "source": [
    "import numpy as np\n",
    "import math \n",
    "import pandas as pd\n",
    "\n"
   ]
  },
  {
   "cell_type": "code",
   "execution_count": null,
   "metadata": {},
   "outputs": [],
   "source": [
    "# f is the no root function\n",
    "def no_root_function(x):\n",
    "    return x**2 + 1\n",
    "\n",
    "\n",
    "def power_rule(x):\n",
    "    return 2*x\n",
    "\n",
    "\n",
    "def newtons_method(f, f_prime, x0, tol, max_iter):\n",
    "    x = x0\n",
    "    for i in range(max_iter):\n",
    "        x = x - f(x) / f_prime(x)\n",
    "        if abs(f(x)) < tol:\n",
    "            return x\n",
    "    return x"
   ]
  },
  {
   "cell_type": "code",
   "execution_count": 5,
   "metadata": {},
   "outputs": [],
   "source": [
    "def bruh(x):\n",
    "    return x + \"hi\"\n",
    "\n",
    "def wallah(bruh, x):\n",
    "    return bruh(x)"
   ]
  }
 ],
 "metadata": {
  "kernelspec": {
   "display_name": ".venv",
   "language": "python",
   "name": "python3"
  },
  "language_info": {
   "codemirror_mode": {
    "name": "ipython",
    "version": 3
   },
   "file_extension": ".py",
   "mimetype": "text/x-python",
   "name": "python",
   "nbconvert_exporter": "python",
   "pygments_lexer": "ipython3",
   "version": "3.12.4"
  }
 },
 "nbformat": 4,
 "nbformat_minor": 2
}
